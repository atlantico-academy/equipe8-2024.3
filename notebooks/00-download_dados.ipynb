{
 "cells": [
  {
   "cell_type": "code",
   "execution_count": 2,
   "metadata": {},
   "outputs": [],
   "source": [
    "import pandas as pd"
   ]
  },
  {
   "cell_type": "code",
   "execution_count": 3,
   "metadata": {},
   "outputs": [],
   "source": [
    "#ler os dados do repositorio pela url\n",
    "df = pd.read_csv('https://raw.githubusercontent.com/atlantico-academy/equipe8-2024.3/refs/heads/master/data/raw/doencas_cardiacas.csv')"
   ]
  },
  {
   "cell_type": "code",
   "execution_count": 4,
   "metadata": {},
   "outputs": [],
   "source": [
    "#criação do dicionario\n",
    "\n",
    "data_dictionary = pd.DataFrame([\n",
    "    {\n",
    "        'variavel': 'age',\n",
    "        'descrição': 'Idade',\n",
    "        'tipo':'Quantitativa',\n",
    "        'subtipo':'Discreta',\n",
    "    },\n",
    "    {\n",
    "        'variavel': 'sex',\n",
    "        'descrição': 'Sexo',\n",
    "        'tipo':'Qualitativa',\n",
    "        'subtipo':'Nominal',\n",
    "    },\n",
    "        {\n",
    "        'variavel': 'chest pain type',\n",
    "        'descrição': 'Tipo de dor no peito',\n",
    "        'tipo':'Qualitativa',\n",
    "        'subtipo':'Ordinal',\n",
    "    },\n",
    "        {\n",
    "        'variavel': 'resting bp s',\n",
    "        'descrição': 'Pressão arterial em repouso',\n",
    "        'tipo':'Quantitativa',\n",
    "        'subtipo':'Contínua',\n",
    "    },\n",
    "        {\n",
    "        'variavel': 'cholesterol',\n",
    "        'descrição': 'Colesterol',\n",
    "        'tipo':'Quantitativa',\n",
    "        'subtipo':'Contínua',\n",
    "    },\n",
    "        {\n",
    "        'variavel': 'fasting blood sugar',\n",
    "        'descrição': 'Açúcar no sangue em jejum',\n",
    "        'tipo':'Qualitativa',\n",
    "        'subtipo':'Nominal',\n",
    "    },\n",
    "        {\n",
    "        'variavel': 'resting ecg',\n",
    "        'descrição': 'Eletrocardiograma em repouso',\n",
    "        'tipo':'Qualitativa',\n",
    "        'subtipo':'Nominal',\n",
    "    },\n",
    "        {\n",
    "        'variavel': 'max heart rate',\n",
    "        'descrição': 'Frequência cardíaca máxima',\n",
    "        'tipo':'Quantitativa',\n",
    "        'subtipo':'Discreta',\n",
    "    },\n",
    "        {\n",
    "        'variavel': 'exercise angina',\n",
    "        'descrição': 'Angina induzida por exercício',\n",
    "        'tipo':'Qualitativa',\n",
    "        'subtipo':'Nominal',\n",
    "    },\n",
    "        {\n",
    "        'variavel': 'oldpeak',\n",
    "        'descrição': 'Depressão do segmento ST',\n",
    "        'tipo':'Quantitativa',\n",
    "        'subtipo':'Contínua',\n",
    "    },\n",
    "        {\n",
    "        'variavel': 'ST slope',\n",
    "        'descrição': 'Inclinação do Segmento ST no Pico do Exercício',\n",
    "        'tipo':'Qualitativa',\n",
    "        'subtipo':'Ordinal',\n",
    "    },\n",
    "        {\n",
    "        'variavel': 'target',\n",
    "        'descrição': 'Alvo',\n",
    "        'tipo':'Qualitativa',\n",
    "        'subtipo':'Nominal',\n",
    "    },\n",
    "])"
   ]
  },
  {
   "cell_type": "code",
   "execution_count": 5,
   "metadata": {},
   "outputs": [],
   "source": [
    "#salvar\n",
    "data_dictionary.to_csv(\"../data/external/dicionario.csv\")"
   ]
  }
 ],
 "metadata": {
  "kernelspec": {
   "display_name": "Python 3 (ipykernel)",
   "language": "python",
   "name": "python3"
  },
  "language_info": {
   "codemirror_mode": {
    "name": "ipython",
    "version": 3
   },
   "file_extension": ".py",
   "mimetype": "text/x-python",
   "name": "python",
   "nbconvert_exporter": "python",
   "pygments_lexer": "ipython3",
   "version": "3.10.11"
  }
 },
 "nbformat": 4,
 "nbformat_minor": 4
}
