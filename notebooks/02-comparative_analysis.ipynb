{
 "cells": [
  {
   "cell_type": "markdown",
   "id": "35ca223f-050d-4cd4-ba96-dcc3bf408e9b",
   "metadata": {
    "tags": []
   },
   "source": [
    "# Análise comparativa de modelos"
   ]
  },
  {
   "cell_type": "code",
   "execution_count": 1,
   "id": "ee78c374-397e-4b43-acf8-5ec058db63d1",
   "metadata": {
    "tags": []
   },
   "outputs": [],
   "source": [
    "import pandas as pd\n",
    "import numpy as np"
   ]
  },
  {
   "cell_type": "code",
   "execution_count": 2,
   "id": "ff7fbc9e-63bc-4805-913d-e2217d170fc3",
   "metadata": {
    "tags": []
   },
   "outputs": [],
   "source": [
    "# Leitura da base de dados\n",
    "df = pd.read_csv(\"../data/raw/doencas_cardiacas.csv\")"
   ]
  },
  {
   "cell_type": "code",
   "execution_count": 3,
   "id": "a3d87f86-264f-46d1-9ea2-77f002586734",
   "metadata": {
    "tags": []
   },
   "outputs": [
    {
     "name": "stdout",
     "output_type": "stream",
     "text": [
      "      sex_0  sex_1  chest pain type_1  chest pain type_2  chest pain type_3  \\\n",
      "0         0      1                  0                  1                  0   \n",
      "1         1      0                  0                  0                  1   \n",
      "2         0      1                  0                  1                  0   \n",
      "3         1      0                  0                  0                  0   \n",
      "4         0      1                  0                  0                  1   \n",
      "...     ...    ...                ...                ...                ...   \n",
      "1185      0      1                  1                  0                  0   \n",
      "1186      0      1                  0                  0                  0   \n",
      "1187      0      1                  0                  0                  0   \n",
      "1188      1      0                  0                  1                  0   \n",
      "1189      0      1                  0                  0                  1   \n",
      "\n",
      "      chest pain type_4  fasting blood sugar_0  fasting blood sugar_1  \\\n",
      "0                     0                      1                      0   \n",
      "1                     0                      1                      0   \n",
      "2                     0                      1                      0   \n",
      "3                     1                      1                      0   \n",
      "4                     0                      1                      0   \n",
      "...                 ...                    ...                    ...   \n",
      "1185                  0                      1                      0   \n",
      "1186                  1                      0                      1   \n",
      "1187                  1                      1                      0   \n",
      "1188                  0                      1                      0   \n",
      "1189                  0                      1                      0   \n",
      "\n",
      "      resting ecg_0  resting ecg_1  resting ecg_2  exercise angina_0  \\\n",
      "0                 1              0              0                  1   \n",
      "1                 1              0              0                  1   \n",
      "2                 0              1              0                  1   \n",
      "3                 1              0              0                  0   \n",
      "4                 1              0              0                  1   \n",
      "...             ...            ...            ...                ...   \n",
      "1185              1              0              0                  1   \n",
      "1186              1              0              0                  1   \n",
      "1187              1              0              0                  0   \n",
      "1188              0              0              1                  1   \n",
      "1189              1              0              0                  1   \n",
      "\n",
      "      exercise angina_1  ST slope_0  ST slope_1  ST slope_2  ST slope_3  \\\n",
      "0                     0           0           1           0           0   \n",
      "1                     0           0           0           1           0   \n",
      "2                     0           0           1           0           0   \n",
      "3                     1           0           0           1           0   \n",
      "4                     0           0           1           0           0   \n",
      "...                 ...         ...         ...         ...         ...   \n",
      "1185                  0           0           0           1           0   \n",
      "1186                  0           0           0           1           0   \n",
      "1187                  1           0           0           1           0   \n",
      "1188                  0           0           0           1           0   \n",
      "1189                  0           0           1           0           0   \n",
      "\n",
      "      target_0  target_1  \n",
      "0            1         0  \n",
      "1            0         1  \n",
      "2            1         0  \n",
      "3            0         1  \n",
      "4            1         0  \n",
      "...        ...       ...  \n",
      "1185         0         1  \n",
      "1186         0         1  \n",
      "1187         0         1  \n",
      "1188         0         1  \n",
      "1189         1         0  \n",
      "\n",
      "[1190 rows x 19 columns]\n"
     ]
    }
   ],
   "source": [
    "# Colunas desnecessárias\n",
    "colunas_a_dropar = [\"age\", \"resting bp s\", \"cholesterol\", \"max heart rate\", \"oldpeak\"]\n",
    "\n",
    "# Dropando colunas desnecessárias\n",
    "df = df.drop(columns = colunas_a_dropar)\n",
    "\n",
    "# Colunas categóricas e suas categorias esperadas\n",
    "colunas_categoricas = [\n",
    "    \"sex\",\n",
    "    \"chest pain type\",\n",
    "    \"fasting blood sugar\",\n",
    "    \"resting ecg\",\n",
    "    \"exercise angina\",\n",
    "    \"ST slope\",\n",
    "    \"target\"\n",
    "]\n",
    "\n",
    "# Aplicar One Hot Encoding usando pandas.get_dummies\n",
    "df_encoded = pd.get_dummies(df, columns=colunas_categoricas, drop_first=False)\n",
    "\n",
    "# Salvar o novo dataframe codificado\n",
    "df_encoded.to_csv(\"../data/processed/doencas_cardiacas_one_hot.csv\", index=False)\n",
    "\n",
    "# Exibir a nova matriz\n",
    "print(df_encoded)"
   ]
  },
  {
   "cell_type": "code",
   "execution_count": null,
   "id": "1500d032-c20b-4339-996e-b5500c5f35ff",
   "metadata": {},
   "outputs": [],
   "source": []
  }
 ],
 "metadata": {
  "kernelspec": {
   "display_name": "Python 3 (ipykernel)",
   "language": "python",
   "name": "python3"
  },
  "language_info": {
   "codemirror_mode": {
    "name": "ipython",
    "version": 3
   },
   "file_extension": ".py",
   "mimetype": "text/x-python",
   "name": "python",
   "nbconvert_exporter": "python",
   "pygments_lexer": "ipython3",
   "version": "3.10.11"
  }
 },
 "nbformat": 4,
 "nbformat_minor": 5
}
